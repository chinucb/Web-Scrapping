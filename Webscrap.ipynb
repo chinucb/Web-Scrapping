{
 "cells": [
  {
   "cell_type": "code",
   "execution_count": 1,
   "id": "4bb2ee20-c6ea-4a47-aeec-d93231474a69",
   "metadata": {},
   "outputs": [],
   "source": [
    "# Web scraping is an automatic method to obtain large amounts of data from website\n",
    "# web scraping exstracts underlying HTML code and,with it,data stored in a database.The scraper can replicate entire\n",
    "# website content elsewhere."
   ]
  },
  {
   "cell_type": "code",
   "execution_count": 3,
   "id": "925b61d7-d075-4ad5-a096-970da2cd0872",
   "metadata": {},
   "outputs": [],
   "source": [
    "# Data can be in structured form like\n",
    "# excel,csv,or in tabular form\n",
    "\n",
    "# Unstructured data\n",
    "# video,image,pdf,link,audio"
   ]
  },
  {
   "cell_type": "code",
   "execution_count": 4,
   "id": "4b69e423-7754-4ecc-9065-afb178215d36",
   "metadata": {},
   "outputs": [],
   "source": [
    "# use of web scrapping\n",
    "# market research,email marketing,news \n",
    "\n",
    "#  crawlwr:- visit all links-> build list->indexing->data\n",
    "# scraping:- website->scrapper->>excel,sql,wordpad"
   ]
  },
  {
   "cell_type": "code",
   "execution_count": 5,
   "id": "7d54853d-008f-4a9f-9457-fda186357140",
   "metadata": {},
   "outputs": [],
   "source": [
    "# Diffrent type of web scrapping \n",
    "# self built web scrapers\n",
    "# pre built web scrappers\n",
    "# browser exstension web scrappers\n",
    "# software web scrappers\n",
    "# cloud web scrappers"
   ]
  },
  {
   "cell_type": "code",
   "execution_count": null,
   "id": "01c75b4e-d4f6-43ae-b84d-afdecb5a7bbd",
   "metadata": {},
   "outputs": [],
   "source": []
  }
 ],
 "metadata": {
  "kernelspec": {
   "display_name": "Python 3 (ipykernel)",
   "language": "python",
   "name": "python3"
  },
  "language_info": {
   "codemirror_mode": {
    "name": "ipython",
    "version": 3
   },
   "file_extension": ".py",
   "mimetype": "text/x-python",
   "name": "python",
   "nbconvert_exporter": "python",
   "pygments_lexer": "ipython3",
   "version": "3.12.2"
  }
 },
 "nbformat": 4,
 "nbformat_minor": 5
}
